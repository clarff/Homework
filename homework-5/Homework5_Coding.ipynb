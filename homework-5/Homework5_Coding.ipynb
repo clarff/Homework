{
 "cells": [
  {
   "cell_type": "markdown",
   "metadata": {},
   "source": [
    "# Homework 5 Coding: Transport Modeling\n",
    "\n",
    "For this coding assignment, you will write functions to calculate molar flux (and sometimes current density) for several given applications.  I will do much of the coding for you, at first, but then let you handle more and more of it, as we move along.\n",
    "\n",
    "## Part I: Gas-phase diffusion in a PEMFC cathode.\n",
    "\n",
    "For this scenario, we will model gas-phase transport in the gas diffusion layer (GDL) of a PEMFC cathode.\n",
    "\n",
    "The cathode is 100 microns thick, with a porosity (gas-phase volume fraction) of 57%, with the tortuosity factor modeled using a Bruggeman coefficient of $n = -0.5$.\n",
    "\n",
    "Use the Cozeny-Karman relationship to estimate the cathode GDL permeability, with a carbon particle diameter of 0.5 microns, and an average pore radius of 2 microns.\n",
    "\n",
    "We will simulate transport at 60 C, where the dynamic viscosity of moist air is $\\mu = 2.08\\times 10^{-5}\\,\\frac{\\rm kg}{\\rm m-s}$.  The conditions at the two nodes are:\n",
    "\n",
    "1. Node 1: in the gas flow channel\n",
    "- Pressure = 1 atmosphere\n",
    "- $X_{\\rm O_2} = 0.21$\n",
    "- $X_{\\rm N_2} = 0.79$\n",
    "- $X_{\\rm H_2O} = 0.0$\n",
    "\n",
    "2. Node 2: in the catalyst layer, where O$_2$ is consumed and H$_2$O is produced:\n",
    "- Pressure = 100 kPa\n",
    "- $X_{\\rm O_2} = 0.16$\n",
    "- $X_{\\rm N_2} = 0.80$\n",
    "- $X_{\\rm H_2O} = 0.04$\n",
    "\n",
    "The gas-phase species diffusion coefficients are:\n",
    "- O$_2$: $2.438\\times 10^{-5}\\,\\frac{\\rm m^2}{\\rm s}$\n",
    "- N$_2$: $2.798\\times 10^{-5}\\,\\frac{\\rm m^2}{\\rm s}$\n",
    "- H$_2$O: $1.9\\times 10^{-5}\\,\\frac{\\rm m^2}{\\rm s}$"
   ]
  },
  {
   "cell_type": "code",
   "execution_count": 202,
   "metadata": {},
   "outputs": [],
   "source": [
    "import numpy as np\n",
    "\n",
    "dY = 100e-6 # m\n",
    "eps_g = 0.57\n",
    "n_Brugg = -0.5\n",
    "\n",
    "d_part = 0.5e-6\n",
    "r_p = 2e-6\n",
    "\n",
    "T = 333.15 # K\n",
    "P_1 = 101325 # Pa\n",
    "P_2 = 100000 # Pa\n",
    "\n",
    "R = 8.3145 # J/mol-K\n",
    "F = 96485  # C/mol equiv\n",
    "\n",
    "# Species order: O2, N2, H2O_v\n",
    "X_k_1 = np.array([0.21, 0.79, 0.0])\n",
    "X_k_2 = np.array([0.16, 0.80, 0.04])\n",
    "\n",
    "mu = 2.08e-5 #kg/m-s\n",
    "\n",
    "D_k = np.array([2.438e-5, 2.798e-5, 1.9e-5]) #m2/s"
   ]
  },
  {
   "cell_type": "markdown",
   "metadata": {},
   "source": [
    "### We are going to load all parameters into a series of Python dictionaries\n",
    "\n",
    "We will pass these dictionaries to our function.  The dictionaries just make it more efficient then having 12 different input variables."
   ]
  },
  {
   "cell_type": "code",
   "execution_count": 203,
   "metadata": {},
   "outputs": [],
   "source": [
    "# State variables for node 1:\n",
    "state1 = {'X_k':X_k_1, 'P':P_1, 'T':T}\n",
    "# State variables for node 2:\n",
    "state2 = {'X_k':X_k_2, 'P':P_2, 'T':T}\n",
    "\n",
    "# Geometric and microstructure parameters:\n",
    "geom = {'eps_g':eps_g, 'n_Brugg':n_Brugg, 'd_part':d_part, 'dY':dY}\n",
    "# Gas properties\n",
    "gas_props = {'D_k':D_k, 'mu':mu}"
   ]
  },
  {
   "cell_type": "markdown",
   "metadata": {},
   "source": [
    "### Example for using values stored in dictionaries:"
   ]
  },
  {
   "cell_type": "code",
   "execution_count": 204,
   "metadata": {},
   "outputs": [
    {
     "name": "stdout",
     "output_type": "stream",
     "text": [
      "2.08e-05\n",
      "[0.21 0.79 0.  ]\n",
      "The mole fractions sum to 1.0\n"
     ]
    }
   ],
   "source": [
    "# To access a dictionary value:\n",
    "print(gas_props['mu'])\n",
    "print(state1['X_k'])\n",
    "X_sum = sum(state1['X_k'])\n",
    "print('The mole fractions sum to',X_sum)"
   ]
  },
  {
   "cell_type": "markdown",
   "metadata": {},
   "source": [
    "## YOUR CODE GOES HERE:\n",
    "\n",
    "Create a function that calculates the species fluxes, given our input dictionaries.\n",
    "\n",
    "The function must return an array `N_k` that provides the species molar fluxes in mol/m$^2$-s. "
   ]
  },
  {
   "cell_type": "markdown",
   "metadata": {},
   "source": [
    "### My approach:\n",
    "Mulitply mole fraction of each species by molar density by diffusion and convection velocities. We will calculate V_conv, convective velocity, using Darcy's law, since this is porous transport."
   ]
  },
  {
   "cell_type": "code",
   "execution_count": 208,
   "metadata": {},
   "outputs": [
    {
     "name": "stdout",
     "output_type": "stream",
     "text": [
      "2.6256243776123266e-15\n",
      "this is d_k_eff[1.04917029e-05 1.20409289e-05 8.17647069e-06]\n",
      "convective current 4 u here it is0.0016725732213155446\n",
      "this is diff current just 4 u Melmel[ 0.02835595 -0.00151458 -0.16352941]\n",
      "[ 0.19288891 -0.00534129 -0.11804866]\n"
     ]
    }
   ],
   "source": [
    "def pemfc_gas_transport(state1, state2, geom, gas_props):\n",
    "    N_k = np.zeros_like(state1['X_k'])\n",
    "    \n",
    "    #tortuosity factor\n",
    "    tau_fac = geom['eps_g']**n_brugg\n",
    "    \n",
    "    #GDL permeability (calculated using Cozeny-Karman)\n",
    "    K_g = ((geom['eps_g']**3)*(geom['d_part']**2))/(72*tau_fac*(1-geom['eps_g'])**2)\n",
    "    print(K_g)\n",
    "    \n",
    "    #concentrations at nodes, and interface\n",
    "    C_k1 = state1['X_k']*state1['P']/R/state1['T']\n",
    "    C_k2 = state2['X_k']*state2['P']/R/state2['T']\n",
    "    C_k_interface = (C_k1+C_k2)/2\n",
    "    \n",
    "    #mole fraction at interface\n",
    "    X_k_interface = (state1['X_k']+state2['X_k'])/2\n",
    "    \n",
    "    #effective diffusion coefficient\n",
    "    D_k_eff = (geom['eps_g']/tau_fac)*gas_props['D_k']\n",
    "    print(\"this is d_k_eff\" + str(D_k_eff))\n",
    "    \n",
    "    #velocities\n",
    "    v_conv = -K_g*(state2['P']-state1['P'])/gas_props['mu']/dY   #Darcy's law   \n",
    "    v_k_diff = -D_k_eff*(state2['X_k']-state1['X_k'])/dY/X_k_interface\n",
    "    print(\"convective current 4 u here it is\" +str(v_conv))\n",
    "    print(\"this is diff current just 4 u Melmel\" + str(v_k_diff))\n",
    "    \n",
    "    #species molar flux \n",
    "    N_k = C_k_interface*X_k_interface*v_conv + C_k_interface*v_k_diff\n",
    "    \n",
    "    print(N_k)\n",
    "    return N_k\n",
    "\n",
    "N_k_calc = pemfc_gas_transport(state1, state2, geom, gas_props)\n"
   ]
  },
  {
   "cell_type": "markdown",
   "metadata": {},
   "source": [
    "### Now calculate the fluxes between nodes 1 and 2 (you do not need to do anything; just run the cell)\n",
    "### Then check your answers against mine:"
   ]
  },
  {
   "cell_type": "code",
   "execution_count": 209,
   "metadata": {},
   "outputs": [
    {
     "name": "stdout",
     "output_type": "stream",
     "text": [
      "2.6256243776123266e-15\n",
      "this is d_k_eff[1.04917029e-05 1.20409289e-05 8.17647069e-06]\n",
      "convective current 4 u here it is0.0016725732213155446\n",
      "this is diff current just 4 u Melmel[ 0.02835595 -0.00151458 -0.16352941]\n",
      "[ 0.19288891 -0.00534129 -0.11804866]\n"
     ]
    },
    {
     "data": {
      "text/plain": [
       "Text(0.5, 0, 'Species')"
      ]
     },
     "execution_count": 209,
     "metadata": {},
     "output_type": "execute_result"
    },
    {
     "data": {
      "image/png": "[encoded data removed]",
      "text/plain": [
       "<Figure size 432x288 with 1 Axes>"
      ]
     },
     "metadata": {
      "needs_background": "light"
     },
     "output_type": "display_data"
    }
   ],
   "source": [
    "N_k_calc = pemfc_gas_transport(state1, state2, geom, gas_props)\n",
    "\n",
    "from matplotlib import pyplot as plt\n",
    "width = 0.35\n",
    "N_k_check = np.array([0.19913, -0.007275, -0.11794]) #mol/m2/s\n",
    "\n",
    "fig, ax = plt.subplots()\n",
    "\n",
    "labels = ['O2', 'N2', 'H2O']\n",
    "x = np.arange(len(labels))\n",
    "\n",
    "ax.bar(x+width/2,N_k_check,width)\n",
    "ax.bar(x-width/2,N_k_calc,width)\n",
    "ax.legend(['DeCaluwe\\'s Answer','My Answer'],frameon=False)\n",
    "\n",
    "ax.set_xticks(x)\n",
    "ax.set_xticklabels(labels)\n",
    "\n",
    "#add line at y=0 for clarifying sign of D_N2\n",
    "plt.axhline(y=0,color= 'grey')\n",
    "\n",
    "#plot labels\n",
    "ax.set_ylabel('Molar flux (mol/m$^2$ s)',fontsize=14)\n",
    "ax.set_xlabel('Species',fontsize=14)"
   ]
  },
  {
   "cell_type": "markdown",
   "metadata": {},
   "source": [
    "## Discussion\n",
    "First off, I changed the y-label for this plot from 'Diffusion Coefficient' to 'Molar flux', since I think that was mislabeled. The units did not make sense on the plot, and this problem is asking us to calculate a function for N_k. Inspection of the plot commands also prove that this plot is plotting molar flux, not diffusion coefficients. The diffusion coefficients are not all that different between the 3 species, and are the same (positive) sign, whereas the molar fluxes do vary between the species.\n",
    "\n",
    "With that out of the way, I notice that the molar flux of N2 is very low compared to that of H2O and O2. The molar flux of O2 is relatively large and positive, while the flux of H2O is negative is about half that of O2, and it is negative, meaning that the flux of H2O is moving from node 2 back to node 1. I think this can be explained by the fact that the major contribution to molar flux in this problem comes from diffusion. \n",
    "\n",
    "Convection, while present, is minimal (v_conv = 0.00167 m/s, for all species) whereas v_diff = [ 0.028, -0.002, -0.163], is much larger in magnitude. This diffusion is driven by concentration gradients that build up as O2 is consumed, and H2O is produced and the relative concentrations of these species are respectively decreased and increased at the catalyst. Nitrogen presumably does not participate in any chemical reaction (there is a slightly higher N2 concentration in the catalyst vs in the GDL, perhaps due to the pressure gradient), and hence its flux is very small in magnitude.\n",
    "\n",
    "Finally, we assumed a very simple single node per phase model, but assuming a vertical fuel cell orientation, it might be interesting to look at molar flux as a function of vertical position. I imagine that bubbles form at the GDL/catalyst interface (and float up), so the interfacial area available might be reduced where the bubbles coalesce. This is just an idea."
   ]
  },
  {
   "cell_type": "markdown",
   "metadata": {},
   "source": [
    "## Part II: Charged species transport in a liquid electrolyte:\n",
    "\n",
    "Next we will calculate molar fluxes for a liquid electrolyte in a battery anode.  These calculations will be for electro-diffusion only - there is no convection!\n",
    "\n",
    "The molar density of the electrolyte is assumed constant at 1100 moles per m$^3$\n",
    "\n",
    "The temperature is 45$^\\circ$C.\n",
    "\n",
    "The electrolyte is LiPF$_6$, dissolved in a generic \"solvent\" molecule, with the following conditions:\n",
    "\n",
    "1. Node 1:\n",
    "- $X_{\\rm Li^+} = 0.03$\n",
    "- $X_{\\rm PF^-_6} = 0.03$\n",
    "- $X_{\\rm Solvent} = 0.94$\n",
    "- Electric potential $\\phi_1 = 0.9$ V\n",
    "\n",
    "2. Node 2:\n",
    "- $X_{\\rm Li^+} = 0.06$\n",
    "- $X_{\\rm PF^-_6} = 0.06$\n",
    "- $X_{\\rm Solvent} = 0.88$\n",
    "- Electric potential $\\phi_2 = 0.5$ V\n",
    "\n",
    "The distance between the nodes is 30 microns, and the average diameter of the solid active material particles is 5 microns.  The anode porosity (electrolyte volume fraction) is 23%, and the tortuosity is characterized by a Bruggeman coefficient of -0.5."
   ]
  },
  {
   "cell_type": "code",
   "execution_count": 132,
   "metadata": {},
   "outputs": [],
   "source": [
    "C_elyte = 1100 #mol/m3\n",
    "\n",
    "# Species order: Li+, PF6-, solvent\n",
    "X_k_1 = np.array([0.03, 0.03, 0.94])\n",
    "X_k_2 = np.array([0.06, 0.06, 0.88])\n",
    "\n",
    "z_k = np.array([1., -1., 0.])\n",
    "\n",
    "T = 318.  #K\n",
    "\n",
    "dY = 30e-6 #meters\n",
    "\n",
    "#diffusion coefficients\n",
    "D_k = np.array([1.52e-10, 0.25e-10, 1e-12])\n",
    "\n",
    "#electric potentials\n",
    "phi_1 = 0.9\n",
    "phi_2 = 0.5\n",
    "\n",
    "#active material particle diameter\n",
    "d_part = 5e-6\n",
    "\n",
    "#porosity\n",
    "eps_elyte = 0.23\n",
    "\n",
    "#tortuosity\n",
    "n_brugg = -0.5\n",
    "\n",
    "#Faraday's constant\n",
    "F = 96485.332       #C/equiv"
   ]
  },
  {
   "cell_type": "markdown",
   "metadata": {},
   "source": [
    "## ENTER CODE HERE \n",
    "\n",
    "### to Create the Necessary Dictionaries. We will call the states just 's1' and 's2', this time:"
   ]
  },
  {
   "cell_type": "code",
   "execution_count": 133,
   "metadata": {},
   "outputs": [],
   "source": [
    "# State variables for node 1:\n",
    "s1 = {'X_k':X_k_1, 'T':T, 'phi':phi_1, 'C_k':X_k_1*C_elyte}\n",
    "# State variables for node 2:\n",
    "s2 = {'X_k':X_k_2, 'T':T, 'phi':phi_2, 'C_k':X_k_2*C_elyte}\n",
    "\n",
    "#interface concentrations\n",
    "C_k_int = (s1['C_k']+s2['C_k'])/2\n",
    "\n",
    "# Geometric and microstructure parameters:\n",
    "geom = {'eps_elyte':eps_elyte, 'n_Brugg':n_Brugg, 'd_part':d_part, 'dY':dY}\n",
    "\n",
    "# Electrolyte properties\n",
    "elyte_pars = {'D_k':D_k, 'z_k':z_k, 'C_elyte':C_elyte}"
   ]
  },
  {
   "cell_type": "markdown",
   "metadata": {},
   "source": [
    "## NOW CREATE YOUR FLUX-CALCULATING FUNCTION:"
   ]
  },
  {
   "cell_type": "code",
   "execution_count": 211,
   "metadata": {},
   "outputs": [],
   "source": [
    "def electrolyte_transport(state1, state2, geom, elyte_pars):\n",
    "    N_k = np.zeros_like(s1['X_k'])\n",
    "    #gradC = (s2['C_k']-s1['C_k'])/geom['dY']\n",
    "    gradX_k = (s2['X_k']-s1['X_k'])/geom['dY']\n",
    "    gradPhi = (s2['phi'] - s1['phi'])/geom['dY']\n",
    "    D_k_eff = geom['eps_elyte']**1.5*elyte_pars['D_k']\n",
    "    D_k_mig = D_k_eff*C_k_int*elyte_pars['z_k']*F/R/T\n",
    "    X_k_int = (s1['X_k']+s2['X_k'])/2\n",
    "    N_k = -D_k_eff*gradX_k*C_k_int/X_k_int-D_k_mig*gradPhi\n",
    "    return N_k\n",
    "\n"
   ]
  },
  {
   "cell_type": "markdown",
   "metadata": {},
   "source": [
    "Now we loop over a range of Node 2 electric potentials.  We use the fluxes to calculate the current density:\n",
    "\\begin{equation}\n",
    "i = F\\sum_k z_kN_k\n",
    "\\end{equation}"
   ]
  },
  {
   "cell_type": "code",
   "execution_count": 212,
   "metadata": {},
   "outputs": [],
   "source": [
    "dPhi = np.linspace(0,1.1,25)\n",
    "currents = np.zeros_like(dPhi)\n",
    "N_k = np.zeros((len(dPhi), len(z_k)))\n",
    "\n",
    "\n",
    "for j, phi in enumerate(dPhi):\n",
    "    s2['phi'] = phi\n",
    "    N_k[j,:] = electrolyte_transport(s1,s2, geom, elyte_pars)\n",
    "    currents[j] = np.dot(z_k,N_k[j,:])*F\n"
   ]
  },
  {
   "cell_type": "markdown",
   "metadata": {},
   "source": [
    "## Plot the currents and check them against mine.\n",
    "(You do not need to enter anything)\n",
    "### For what potential is the current equal to zero?"
   ]
  },
  {
   "cell_type": "code",
   "execution_count": 136,
   "metadata": {},
   "outputs": [
    {
     "name": "stdout",
     "output_type": "stream",
     "text": [
      "Zero current at dPhi =  0.8868918573910756\n"
     ]
    },
    {
     "data": {
      "image/png": "[encoded data removed]",
      "text/plain": [
       "<Figure size 432x288 with 1 Axes>"
      ]
     },
     "metadata": {
      "needs_background": "light"
     },
     "output_type": "display_data"
    }
   ],
   "source": [
    "current_check = np.array([100.,  95.,  90.,  85.,  80.,  75.,  69.,\n",
    "                          64.,  59.,  54.,  49.,  43.,  38.,  33.,\n",
    "                          28.,  23.,  17.,  12.,   7.,   2.,  -3.,\n",
    "                          -9.,    -14., -19., -24.])\n",
    "\n",
    "plt.plot(dPhi, currents, 'k')\n",
    "plt.plot(dPhi, current_check, 'ro', markerfacecolor=None)\n",
    "plt.plot(dPhi, np.zeros_like(dPhi),'--',color='0.5')\n",
    "plt.xlabel('Electric potential difference (V)',fontsize=14)\n",
    "plt.ylabel('Current density (A/m$^2$)',fontsize=14)\n",
    "\n",
    "zero=np.interp(0, np.flip(currents), np.flip(dPhi))\n",
    "print('Zero current at dPhi = ',zero)"
   ]
  },
  {
   "cell_type": "code",
   "execution_count": 137,
   "metadata": {},
   "outputs": [
    {
     "data": {
      "text/plain": [
       "[<matplotlib.lines.Line2D at 0x20282e85188>]"
      ]
     },
     "execution_count": 137,
     "metadata": {},
     "output_type": "execute_result"
    },
    {
     "data": {
      "image/png": "[encoded data removed]",
      "text/plain": [
       "<Figure size 432x288 with 1 Axes>"
      ]
     },
     "metadata": {
      "needs_background": "light"
     },
     "output_type": "display_data"
    }
   ],
   "source": [
    "plt.plot(dPhi, N_k[:,0],linewidth=2.5)\n",
    "plt.plot(dPhi, N_k[:,1],linewidth=2.5)\n",
    "\n",
    "plt.xlabel('Electric potential difference (V)',fontsize=14)\n",
    "plt.ylabel('Molar flux (mol/m$^2$-s)',fontsize=14)\n",
    "plt.legend(['Li$^+$','PF$_6^-$'],frameon=False,fontsize=14)\n",
    "plt.plot([zero,zero],[N_k[-1,0],N_k[0,0]],'--',color='0.5')\n",
    "plt.axvline(0.8868918573910756, color = 'cyan')\n",
    "plt.plot([0,1],[0,0],'--',color='0.5')"
   ]
  },
  {
   "cell_type": "markdown",
   "metadata": {},
   "source": [
    "## Discuss the plot above in this Markdown block.  When is zero ionic current achieved?\n",
    "\n",
    "Zero current is achieved when the products z_Li * N_Li and z_PF6 * N_PF6 sum to zero, which occurs when the molar flux of Li+ is equal to PF6- since their charges are equal but opposite in sign. This condition is met at dphi = 0.8868918573910756 V (~0.89 V, plotted above in cyan), which is the same answer as we saw in the previous plot where we graphed dphi vs current density.\n",
    "\n",
    "This makes sense, because the current flow in this system is a result of ionic transport at the electrolyte/anode interface (the electrolyte should not conduct electrons). Indeed, observation of input block where the function \"currents[j]\" is defined, shows that \"currents\" is simply taking the dot product of z_k and N_k over various values of dphi.\n",
    "\n",
    "\n",
    "\n"
   ]
  },
  {
   "cell_type": "markdown",
   "metadata": {},
   "source": [
    "### Now predict current as a function of electrolyte volume fraction $\\varepsilon_{\\rm elyte}$\n",
    "\n",
    "(You do not need to type anything)"
   ]
  },
  {
   "cell_type": "code",
   "execution_count": 215,
   "metadata": {},
   "outputs": [
    {
     "data": {
      "text/plain": [
       "Text(0, 0.5, 'Current Density (A/m$^2$)')"
      ]
     },
     "execution_count": 215,
     "metadata": {},
     "output_type": "execute_result"
    },
    {
     "data": {
      "image/png": "[encoded data removed]",
      "text/plain": [
       "<Figure size 432x288 with 1 Axes>"
      ]
     },
     "metadata": {
      "needs_background": "light"
     },
     "output_type": "display_data"
    }
   ],
   "source": [
    "eps_array = np.linspace(0.05,.95,25)\n",
    "\n",
    "currents = np.zeros_like(eps_array)\n",
    "for j, eps in enumerate(eps_array):\n",
    "    geom['eps_elyte'] = eps\n",
    "    N_k = electrolyte_transport(s1, s2, geom, elyte_pars)\n",
    "    currents[j] = np.dot(elyte_pars['z_k'],N_k)*F    \n",
    "plt.plot(eps_array, currents,'b',linewidth=2.5)\n",
    "plt.xlabel('Electrolyte Volume Fraction', fontsize=14)\n",
    "plt.ylabel('Current Density (A/m$^2$)',fontsize=14)"
   ]
  },
  {
   "cell_type": "markdown",
   "metadata": {},
   "source": [
    "### Discuss the results.  If you were designing a high-performance anode, what $\\varepsilon_{\\rm elyte}$ value would you pick?  Why?\n",
    "\n",
    " For a porous medium, the presence of a solid medium inhibits necessary ionic transport. However, charge transfer reactions take place at interfaces between the electrolyte and solid medium, so some solid material is required (and it is required to physically separate the electrodes to avoid short circuits). It seems from the plot (which demonstrates current density increasing continuously with electrolyte volume fraction) that the highest current density can be achieved with electrolyte volume fraction = 1, but I know that this can't be true, because that would mean that the electrolyte makes up 100% of the anode, and clearly that would not be good. \n",
    " \n",
    " I think that a 50% porosity seems like a good tradeoff between interstitial reaction area and reduced tortuosity. With too high of porosity at the anode, one could imagine an extreme situation where there is so much electrolyte and very little anode for it to react with, and with too low porosity, there would conversely be plenty of anode but insufficient electrolyte and pathways for ions to flow and react. One thing I never considered before until now is how volume fraction is defined - what if optimal volume fraction was achieved, but each of the pores were dead end tunnels? Clearly, that would result in atrocious performance. I wonder if there is a way to assess the connectivity of the pores, since that seems to be very important for transport."
   ]
  },
  {
   "cell_type": "markdown",
   "metadata": {},
   "source": [
    "## Part III. Charged defects in a proton-conducting ceramic:\n",
    "\n",
    "The protonic ceramic membrane in this section has a fixed crystal lattice that can be occupied by one of three species:\n",
    "\n",
    "- An oxygen atom, O$^\\times$ (this is considered the neutral species)\n",
    "- A vacancy,V$_{\\rm O}^{\\bullet\\bullet}$ which has a charge of +2, relative to the oxygen\n",
    "- An oxygen atom with a proton attached, OH$^\\bullet$\n",
    "\n",
    "The lattice site concentration is assumed fixed at 22,325 mol per m$^3$.\n",
    "\n",
    "The vacancy and proton are considered mobile, while the oxide is considered fixed.  We will simulate transport at 600$^\\circ$C, where the diffusion coefficients are:\n",
    "\n",
    "- $D_{\\rm V_{\\rm O}^{\\bullet\\bullet}} = 1.28\\times 10^{-12}\\,\\frac{\\rm m^2}{\\rm s}$\n",
    "- $D_{\\rm O^\\times} = 0.0\\,\\frac{\\rm m^2}{\\rm s}$\n",
    "- $D_{\\rm OH^\\bullet} = 7.46\\times 10^{-11}\\,\\frac{\\rm m^2}{\\rm s}$\n",
    "\n",
    "The membrane also has a small amount of electronic conductivity, $\\sigma_{\\rm el} = 0.001\\,\\frac{\\rm S}{\\rm m}$.\n",
    "\n",
    "We will simulate transport between two nodes, which are 20 microns apart.  The conditions are:\n",
    "\n",
    "1. Node 1:\n",
    "- $X_{\\rm V_{\\rm O}^{\\bullet\\bullet}} = 0.336$\n",
    "- $X_{\\rm O^\\times} = 0.627$\n",
    "- $X_{\\rm OH^\\bullet} = 0.037$\n",
    "- $\\phi_1 = 1.1$\n",
    "\n",
    "2. Node 2:\n",
    "- $X_{\\rm V_{\\rm O}^{\\bullet\\bullet}} = 0.018$\n",
    "- $X_{\\rm O^\\times} = 0.938$\n",
    "- $X_{\\rm OH^\\bullet} = 0.044$\n",
    "- $\\phi_2 = 0.0$\n",
    "\n",
    "## Enter the data, here:"
   ]
  },
  {
   "cell_type": "code",
   "execution_count": 216,
   "metadata": {},
   "outputs": [],
   "source": [
    "#lattice site concentration\n",
    "C_latt = 22325 #mol/m3\n",
    "\n",
    "# Species order: Oxygen vacanices, oxide, protonated O\n",
    "X_k_1 = np.array([0.336, 0.627, 0.037])\n",
    "X_k_2 = np.array([0.018, 0.938, 0.044])\n",
    "\n",
    "#Diffusion coefficients \n",
    "D_k = np.array([1.28e-12, 0, 7.46e-11]) #[m^2/s]\n",
    "\n",
    "#species charge\n",
    "z_k = np.array([2., 0., 1.])\n",
    "\n",
    "#temp\n",
    "T = 873.  #K\n",
    "\n",
    "#node separation\n",
    "dY = 20e-6 #meters\n",
    "\n",
    "#electric potentials [J/C]\n",
    "phi_1 = 1.1\n",
    "phi_2 = 0\n",
    "\n",
    "#electrical conductivity [Siemens/m]\n",
    "sigma = 0.001\n",
    "\n",
    "#state variables\n",
    "s1 = {'X_k':X_k_1, 'T':T, 'phi':phi_1, 'C_k':X_k_1*C_latt}\n",
    "\n",
    "s2 = {'X_k':X_k_2, 'T':T, 'phi':phi_2, 'C_k':X_k_2*C_latt}\n",
    "\n",
    "#interface species concentration & mole fraction\n",
    "C_k_int = (s1['C_k']+s2['C_k'])/2\n",
    "X_k_int = (s1['X_k']+s2['X_k'])/2\n",
    "\n",
    "#gradient of mole fraction between nodes\n",
    "grad_X_k = (s2['X_k']-s1['X_k'])/geom['dY']\n",
    "\n",
    "#electrical potential gradient\n",
    "grad_phi = (s2['phi']-s1['phi'])/geom['dY']\n",
    "\n",
    "#ceramic membrane parameters\n",
    "geom = {'dY':dY }\n",
    "ceramic_pars = {'D_k':D_k, 'z_k':z_k, 'C_latt':C_latt, 'u_k': D_k/R/T,'t_k':t_k, 'sigma':sigma}\n",
    "\n",
    "#conductivity\n",
    "# diff_conduc = np.array[(R*T*sigma/ceramic_pars['z_k']/F/C_k_int, 0., R*T*sigma/ceramic_pars['z_k']/F/C_k_int)]\n",
    "# conduc = {'diff':R*T*sigma/ceramic_pars['z_k']/F/C_k_int, 'elect':sigma}\n",
    "\n",
    "#transference number\n",
    "t_num = ceramic_pars['z_k']**2*ceramic_pars['u_k']*C_k_int\n",
    "t_denom =sum(ceramic_pars['z_k']**2*ceramic_pars['u_k']*C_k_int)\n",
    "t_k = t_num/t_denom\n",
    "\n"
   ]
  },
  {
   "cell_type": "markdown",
   "metadata": {},
   "source": [
    "## CREATE YOUR TRANSPORT FUNCTION HERE.\n",
    "\n",
    "This function should return the fluxes, N_k, and the total current (ionic + electronic)."
   ]
  },
  {
   "cell_type": "code",
   "execution_count": 217,
   "metadata": {},
   "outputs": [],
   "source": [
    "def protonic_transport(s1, s2, geom, ceramic_pars):\n",
    "    N_k = np.zeros_like(s1['X_k'])\n",
    "    current = np.zeros_like(s1['X_k'])\n",
    "    grad_phi = (s2['phi']-s1['phi'])/geom['dY']\n",
    "\n",
    "#     N_k = -ceramic_pars['D_k']*C_k_int*grad_X_k/X_k_int-ceramic_pars['sigma']*ceramic_pars['t_k']*grad_phi/ceramic_pars['z_k']/F\n",
    "    \n",
    "    N_k = -ceramic_pars['D_k']*C_k_int*grad_X_k/X_k_int-ceramic_pars['D_k']*C_k_int*ceramic_pars['z_k']*F*grad_phi/R/T\n",
    "#     problem = ceramic_pars['sigma']*ceramic_pars['t_k']*grad_phi/ceramic_pars['z_k']/F\n",
    "    current = np.dot(ceramic_pars['z_k'],N_k)*F-grad_phi*ceramic_pars['sigma']\n",
    "#     current = sum(ceramic_pars['z_k']*N_k)*F\n",
    "#     print(current)\n",
    "    return N_k, current\n"
   ]
  },
  {
   "cell_type": "markdown",
   "metadata": {},
   "source": [
    "## Here, we loop over a range of electric potential diffrerences between node 1 and node 2.\n",
    "\n",
    "You do not need to do anything; just run the cell.\n",
    "\n",
    "We will plot both the total current and the Faradaic efficiency, as a function of $\\Delta \\phi$.  \n",
    "\n",
    "The Faradaic efficiency $\\eta_{\\rm Far}$ refers to the fact that the electronic leakage current is \"undesired,\" for the protonic fuel cell.  We want all current to move ions across the membrane.  Therefore we find the efficiency as:\n",
    "\\begin{equation}\n",
    "    \\eta_{\\rm Far} = \\frac{i_{\\rm ion}}{i_{\\rm total}}\n",
    "\\end{equation}"
   ]
  },
  {
   "cell_type": "code",
   "execution_count": 221,
   "metadata": {},
   "outputs": [
    {
     "data": {
      "text/plain": [
       "(99.0, 100.0)"
      ]
     },
     "execution_count": 221,
     "metadata": {},
     "output_type": "execute_result"
    },
    {
     "data": {
      "image/png": "[encoded data removed]",
      "text/plain": [
       "<Figure size 432x288 with 2 Axes>"
      ]
     },
     "metadata": {
      "needs_background": "light"
     },
     "output_type": "display_data"
    }
   ],
   "source": [
    "dPhi = np.linspace(0.0, 1.0, 100)\n",
    "eta_Far = np.zeros_like(dPhi)\n",
    "i_tot = np.zeros_like(dPhi)\n",
    "\n",
    "for j, deltaPhi in enumerate(dPhi):\n",
    "    s2['phi'] = s1['phi']-deltaPhi\n",
    "    Nk, i_tot[j] = protonic_transport(s1, s2, geom, ceramic_pars)\n",
    "    i_ion = np.dot(Nk,ceramic_pars['z_k'])*F\n",
    "    \n",
    "    eta_Far[j] = 100*i_ion/i_tot[j]\n",
    "    \n",
    "    \n",
    "# Plot the results:\n",
    "fig, ax = plt.subplots()\n",
    "plt.plot(dPhi, i_tot,color='b')\n",
    "\n",
    "# Create a 2nd y axis:\n",
    "ax2 = ax.twinx()\n",
    "ax2.plot(dPhi, eta_Far,'r')\n",
    "\n",
    "# Formatting:\n",
    "ax.set_xlabel('Electric Potential Difference ($\\phi_1 - \\phi_2$, V)', fontsize=14)\n",
    "\n",
    "ax.tick_params(axis='y',color='r',labelcolor='b',labelsize=12)\n",
    "ax.set_ylabel('Current density (A/m$^2$)',color='b',fontsize=14)\n",
    "ax.tick_params(axis='y',color='r',labelcolor='b',labelsize=12)\n",
    "\n",
    "ax2.set_ylabel('Faradaic Efficiency (%)',color='r',fontsize=14)\n",
    "ax2.tick_params(axis='y',color='r',labelcolor='r',labelsize=12)\n",
    "ax2.tick_params(axis='y',color='r',labelcolor='r',labelsize=12)\n",
    "ax2.set_ylim((99,100))"
   ]
  },
  {
   "cell_type": "markdown",
   "metadata": {},
   "source": [
    "## In this markdown cell, discuss the plot.  What explains the trends?\n",
    "\n",
    "\n",
    "As the electrical potential difference increases, the protonic fuel cell must be \"leaking\" ions, decreasing the Faradaic efficiency. At dphi = 0, we are 100% faradic efficiency, I suppose because ionic current equal to the total current.\n",
    "\n",
    "As soon as we introduce a potential difference, the Faradic efficiency drops lightly to about 99.1% and then flatlines. To be honest, I am confused in my interpretation of this plot. It would seem to me that in the direction we have chosen (node 1-->2 is positive direction), if we were to increase the electric potential of 1 relative to 2 (as we are doing in this plot as we move from the origin out along the x-axis) I would think that positive charged particles (protons in our case) would be driven to move to node 2, resulting in positive current. We do see this reflected by the increasing current density. Is the faradic efficiency decreasing because ions are moving out of the membrane? Isn't that what is desired?"
   ]
  },
  {
   "cell_type": "markdown",
   "metadata": {},
   "source": [
    "### Now loop over a smaller range of potentials, to see where we get a net current of zero.\n",
    "\n",
    "(you do not need to type anything; just run the cell)."
   ]
  },
  {
   "cell_type": "code",
   "execution_count": 235,
   "metadata": {},
   "outputs": [
    {
     "data": {
      "text/plain": [
       "<matplotlib.legend.Legend at 0x20286032088>"
      ]
     },
     "execution_count": 235,
     "metadata": {},
     "output_type": "execute_result"
    },
    {
     "data": {
      "image/png": "[encoded data removed]",
      "text/plain": [
       "<Figure size 432x288 with 2 Axes>"
      ]
     },
     "metadata": {
      "needs_background": "light"
     },
     "output_type": "display_data"
    }
   ],
   "source": [
    "dPhi = np.linspace(-0.002, 0.001, 20)\n",
    "N_k = np.zeros((len(dPhi),len(s1['X_k'])))\n",
    "i_tot = np.zeros_like(dPhi)\n",
    "\n",
    "for j, deltaPhi in enumerate(dPhi):\n",
    "    s2['phi'] = s1['phi']-deltaPhi\n",
    "    N_k[j,:], i_tot[j] = protonic_transport(s1, s2, geom, ceramic_pars)\n",
    "\n",
    "fig, ax = plt.subplots()\n",
    "plt.plot(1000*dPhi, i_tot,color='b')\n",
    "\n",
    "zero = 1000*np.interp(0,i_tot,dPhi)\n",
    "plt.plot([zero,zero],[i_tot[0],i_tot[-1]],'--',color='0.5')\n",
    "\n",
    "ax.set_ylabel('Current density (A/m$^2$)',color='b',fontsize=14)\n",
    "ax.tick_params(axis='y',color='k',labelcolor='b',labelsize=12)\n",
    "ax.tick_params(axis='y',color='k',labelcolor='b',labelsize=12)\n",
    "\n",
    "ax.tick_params(axis='x',color='k',labelcolor='k',labelsize=12)\n",
    "ax.set_xlabel('Electric Potential Difference ($\\phi_1 - \\phi_2$, mV)', fontsize=14)\n",
    "# ax.set_xlim((-0.01,0.01))\n",
    "\n",
    "#add a horizontal line at y =0\n",
    "plt.axhline(y=0)\n",
    "\n",
    "ax2 = ax.twinx()\n",
    "ax2.plot(1000*dPhi, N_k[:,0],'r.--')\n",
    "ax2.plot(1000*dPhi, N_k[:,2],color='r')\n",
    "\n",
    "ax2.set_ylabel('Species Flux (mol/m$^2$-s)',color='r',fontsize=14)\n",
    "ax2.tick_params(axis='y',color='r',labelcolor='r',labelsize=12)\n",
    "\n",
    "ax2.legend(['Vacancy','Proton'],fontsize=14,frameon=False)\n",
    "\n"
   ]
  },
  {
   "cell_type": "markdown",
   "metadata": {
    "scrolled": true
   },
   "source": [
    "### Discuss the result.  Is the 'zero current' condition the same as for the battery anode?  \n",
    "\n",
    "What about your model equations explains the trends?"
   ]
  },
  {
   "cell_type": "markdown",
   "metadata": {},
   "source": [
    "The 'zero current' condition is just under -1 mV, which is orders of magnitude lower than the zero current condition for the battery anode (~0.9V). My model equation that explains this trend is the current equation, which includes an ohmic contribution (protons are conducted through the membrane) in addition to the electrochemical contributions to current.\n"
   ]
  }
 ],
 "metadata": {
  "kernelspec": {
   "display_name": "Python 3",
   "language": "python",
   "name": "python3"
  },
  "language_info": {
   "codemirror_mode": {
    "name": "ipython",
    "version": 3
   },
   "file_extension": ".py",
   "mimetype": "text/x-python",
   "name": "python",
   "nbconvert_exporter": "python",
   "pygments_lexer": "ipython3",
   "version": "3.7.6"
  }
 },
 "nbformat": 4,
 "nbformat_minor": 4
}
